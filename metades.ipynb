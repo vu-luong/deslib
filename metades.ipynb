{
 "cells": [
  {
   "cell_type": "code",
   "execution_count": 141,
   "metadata": {},
   "outputs": [],
   "source": [
    "import numpy as np\n",
    "import scipy.io as sio\n",
    "from sklearn.model_selection import train_test_split\n",
    "from sklearn.discriminant_analysis import LinearDiscriminantAnalysis\n",
    "from sklearn.neighbors import KNeighborsClassifier\n",
    "from sklearn.naive_bayes import GaussianNB\n",
    "from deslib.des import METADES\n",
    "from sklearn.metrics import precision_recall_fscore_support\n"
   ]
  },
  {
   "cell_type": "code",
   "execution_count": 89,
   "metadata": {},
   "outputs": [
    {
     "name": "stdout",
     "output_type": "stream",
     "text": [
      "(4174, 9)\n",
      "(1, 100)\n"
     ]
    }
   ],
   "source": [
    "D = np.loadtxt(\"/Users/AnhVu/Study/Machine_learning/Data/convert/csv/abalone.csv\", delimiter=',')\n",
    "\n",
    "n_instances = D.shape[0]\n",
    "n_features = D.shape[1] - 1\n",
    "\n",
    "print(D.shape)\n",
    "\n",
    "cv = sio.loadmat(\"/Users/AnhVu/Study/Machine_learning/Data/convert/cv/cv_abalone.mat\")['cv']\n",
    "\n",
    "print(cv.shape)"
   ]
  },
  {
   "cell_type": "code",
   "execution_count": 75,
   "metadata": {},
   "outputs": [
    {
     "name": "stdout",
     "output_type": "stream",
     "text": [
      "4174\n",
      "8\n"
     ]
    }
   ],
   "source": [
    "n_folds = 10\n",
    "n_iters = 3\n",
    "validation_rate = 0.3\n",
    "rng = np.random.RandomState(42)\n",
    "\n",
    "print(n_instances)\n",
    "print(n_features)"
   ]
  },
  {
   "cell_type": "code",
   "execution_count": 153,
   "metadata": {
    "scrolled": true
   },
   "outputs": [
    {
     "name": "stdout",
     "output_type": "stream",
     "text": [
      "Classification accuracy of META-DES:  0.5323741007194245\n",
      "Classification accuracy of META-DES:  0.5239234449760766\n",
      "Classification accuracy of META-DES:  0.5645933014354066\n",
      "Classification accuracy of META-DES:  0.5598086124401914\n",
      "Classification accuracy of META-DES:  0.49521531100478466\n",
      "Classification accuracy of META-DES:  0.5227817745803357\n",
      "Classification accuracy of META-DES:  0.5083932853717026\n",
      "Classification accuracy of META-DES:  0.5179856115107914\n",
      "Classification accuracy of META-DES:  0.5155875299760192\n",
      "Classification accuracy of META-DES:  0.5443645083932853\n",
      "Classification accuracy of META-DES:  0.5587529976019184\n",
      "Classification accuracy of META-DES:  0.5263157894736842\n",
      "Classification accuracy of META-DES:  0.5167464114832536\n",
      "Classification accuracy of META-DES:  0.48564593301435405\n",
      "Classification accuracy of META-DES:  0.5358851674641149\n",
      "Classification accuracy of META-DES:  0.5491606714628298\n",
      "Classification accuracy of META-DES:  0.4940047961630695\n",
      "Classification accuracy of META-DES:  0.5467625899280576\n",
      "Classification accuracy of META-DES:  0.5179856115107914\n",
      "Classification accuracy of META-DES:  0.513189448441247\n",
      "Classification accuracy of META-DES:  0.5275779376498801\n",
      "Classification accuracy of META-DES:  0.5047846889952153\n",
      "Classification accuracy of META-DES:  0.5023923444976076\n",
      "Classification accuracy of META-DES:  0.5502392344497608\n",
      "Classification accuracy of META-DES:  0.5358851674641149\n",
      "Classification accuracy of META-DES:  0.5323741007194245\n",
      "Classification accuracy of META-DES:  0.4988009592326139\n",
      "Classification accuracy of META-DES:  0.5347721822541966\n",
      "Classification accuracy of META-DES:  0.5299760191846523\n",
      "Classification accuracy of META-DES:  0.5539568345323741\n",
      "[0.4676259  0.47607656 0.4354067  0.44019139 0.50478469 0.47721823\n",
      " 0.49160671 0.48201439 0.48441247 0.45563549 0.441247   0.47368421\n",
      " 0.48325359 0.51435407 0.46411483 0.45083933 0.5059952  0.45323741\n",
      " 0.48201439 0.48681055 0.47242206 0.49521531 0.49760766 0.44976077\n",
      " 0.46411483 0.4676259  0.50119904 0.46522782 0.47002398 0.44604317]\n",
      "[0.52477976 0.51689339 0.55179352 0.55465957 0.48796688 0.51911334\n",
      " 0.49695384 0.51352886 0.50739378 0.53590557 0.54715973 0.52581148\n",
      " 0.51202755 0.48278295 0.52635623 0.54541803 0.48486646 0.54164655\n",
      " 0.51356748 0.50982321 0.52250262 0.50491444 0.49756795 0.54062391\n",
      " 0.53333571 0.52232751 0.49135542 0.52790657 0.52069108 0.54330531]\n",
      "[0.5323741  0.52392344 0.5645933  0.55980861 0.49521531 0.52278177\n",
      " 0.50839329 0.51798561 0.51558753 0.54436451 0.558753   0.52631579\n",
      " 0.51674641 0.48564593 0.53588517 0.54916067 0.4940048  0.54676259\n",
      " 0.51798561 0.51318945 0.52757794 0.50478469 0.50239234 0.55023923\n",
      " 0.53588517 0.5323741  0.49880096 0.53477218 0.52997602 0.55395683]\n"
     ]
    }
   ],
   "source": [
    "all_ids = np.array(range(D.shape[0]))\n",
    "\n",
    "errors = np.zeros(n_iters * n_folds,)\n",
    "precisions_macro = np.zeros(n_iters * n_folds,)\n",
    "recalls_macro = np.zeros(n_iters * n_folds,)\n",
    "f1s_macro = np.zeros(n_iters * n_folds,)\n",
    "\n",
    "precisions_micro = np.zeros(n_iters * n_folds,)\n",
    "recalls_micro = np.zeros(n_iters * n_folds,)\n",
    "f1s_micro = np.zeros(n_iters * n_folds,)\n",
    "\n",
    "for i_iter in range(n_iters):\n",
    "    base_loop = i_iter * n_folds;\n",
    "    for i_fold in range(n_folds):\n",
    "        current_loop = base_loop + i_fold\n",
    "        \n",
    "        # subtract one since index in python starts from 0 (matlab from 0)\n",
    "        test_ids = cv[0, current_loop][:, 0] - 1 \n",
    "        train_ids = np.setdiff1d(all_ids, test_ids)\n",
    "        \n",
    "        X_train = D[train_ids, :-1]\n",
    "        Y_train = D[train_ids, -1]\n",
    "        \n",
    "        X_test = D[test_ids, :-1]\n",
    "        Y_test = D[test_ids, -1]\n",
    "        \n",
    "        X_train, X_dev, Y_train, Y_dev = train_test_split(X_train, Y_train,\n",
    "                                                    test_size=0.3,\n",
    "                                                    random_state=rng)\n",
    "        \n",
    "        model_knn = KNeighborsClassifier(n_neighbors=5).fit(X_train, Y_train)\n",
    "        model_nb = GaussianNB().fit(X_train, Y_train)\n",
    "        model_lda = LinearDiscriminantAnalysis().fit(X_train, Y_train)\n",
    "        \n",
    "        pool_classifiers = [model_lda, model_nb, model_knn]\n",
    "        metades = METADES(pool_classifiers)\n",
    "        \n",
    "        metades.fit(X_dev, Y_dev)\n",
    "        \n",
    "        accuracy = metades.score(X_test, Y_test)\n",
    "        \n",
    "        print('Classification accuracy of META-DES: ', accuracy)\n",
    "        Y_pred = metades.predict(X_test)\n",
    "        support_macro = precision_recall_fscore_support(Y_test, Y_pred, average='macro')\n",
    "        support_micro = precision_recall_fscore_support(Y_test, Y_pred, average='micro')\n",
    "        \n",
    "        errors[current_loop] = 1 - accuracy\n",
    "        \n",
    "        precisions_macro[current_loop] = support_macro[0]\n",
    "        recalls_macro[current_loop] = support_macro[1]\n",
    "        f1s_macro[current_loop] = support_macro[2]\n",
    "        \n",
    "        precisions_micro[current_loop] = support_micro[0]\n",
    "        recalls_micro[current_loop] = support_micro[1]\n",
    "        f1s_micro[current_loop] = support_micro[2]\n",
    "\n",
    "print(errors)\n",
    "print(f1s_macro)\n",
    "print(f1s_micro)\n",
    "\n",
    "        "
   ]
  },
  {
   "cell_type": "code",
   "execution_count": 152,
   "metadata": {},
   "outputs": [],
   "source": [
    "def write_file(array, filename):\n",
    "    array_mean = np.mean(array)\n",
    "    array_var = np.var(array)\n",
    "    np.savetxt(filename, array, delimiter=',', fmt='%0.6e')\n",
    "    f = open(filename, \"a\")\n",
    "    f.write(\"----------\\n\")\n",
    "    f.write(\"Mean:\\n\")\n",
    "    f.write(\"{0:6E}\\n\".format(array_mean))\n",
    "    f.write(\"Variance:\\n\")\n",
    "    f.write(\"{0:6E}\".format(array_var))\n",
    "    f.close()"
   ]
  },
  {
   "cell_type": "code",
   "execution_count": 154,
   "metadata": {},
   "outputs": [],
   "source": [
    "write_file(errors, \"err.dat\")\n",
    "write_file(precisions_macro, \"precision_macro.dat\")\n",
    "write_file(recalls_macro, \"recall_macro.dat\")\n",
    "write_file(f1s_macro, \"f1_macro.dat\")\n",
    "\n",
    "write_file(precisions_micro, \"precision_micro.dat\")\n",
    "write_file(recalls_micro, \"recall_micro.dat\")\n",
    "write_file(f1s_micro, \"f1_micro.dat\")"
   ]
  },
  {
   "cell_type": "code",
   "execution_count": null,
   "metadata": {},
   "outputs": [],
   "source": []
  },
  {
   "cell_type": "markdown",
   "metadata": {},
   "source": []
  }
 ],
 "metadata": {
  "kernelspec": {
   "display_name": "Python 3",
   "language": "python",
   "name": "python3"
  },
  "language_info": {
   "codemirror_mode": {
    "name": "ipython",
    "version": 3
   },
   "file_extension": ".py",
   "mimetype": "text/x-python",
   "name": "python",
   "nbconvert_exporter": "python",
   "pygments_lexer": "ipython3",
   "version": "3.6.7"
  }
 },
 "nbformat": 4,
 "nbformat_minor": 2
}
