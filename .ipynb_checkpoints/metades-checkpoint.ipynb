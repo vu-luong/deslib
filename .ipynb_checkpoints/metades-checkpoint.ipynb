{
 "cells": [
  {
   "cell_type": "code",
   "execution_count": 141,
   "metadata": {},
   "outputs": [],
   "source": [
    "import numpy as np\n",
    "import scipy.io as sio\n",
    "from sklearn.model_selection import train_test_split\n",
    "from sklearn.discriminant_analysis import LinearDiscriminantAnalysis\n",
    "from sklearn.neighbors import KNeighborsClassifier\n",
    "from sklearn.naive_bayes import GaussianNB\n",
    "from deslib.des import METADES\n",
    "from sklearn.metrics import precision_recall_fscore_support\n"
   ]
  },
  {
   "cell_type": "code",
   "execution_count": 89,
   "metadata": {},
   "outputs": [
    {
     "name": "stdout",
     "output_type": "stream",
     "text": [
      "(4174, 9)\n",
      "(1, 100)\n"
     ]
    }
   ],
   "source": [
    "D = np.loadtxt(\"/Users/AnhVu/Study/Machine_learning/Data/convert/csv/abalone.csv\", delimiter=',')\n",
    "\n",
    "n_instances = D.shape[0]\n",
    "n_features = D.shape[1] - 1\n",
    "\n",
    "print(D.shape)\n",
    "\n",
    "cv = sio.loadmat(\"/Users/AnhVu/Study/Machine_learning/Data/convert/cv/cv_abalone.mat\")['cv']\n",
    "\n",
    "print(cv.shape)"
   ]
  },
  {
   "cell_type": "code",
   "execution_count": 75,
   "metadata": {},
   "outputs": [
    {
     "name": "stdout",
     "output_type": "stream",
     "text": [
      "4174\n",
      "8\n"
     ]
    }
   ],
   "source": [
    "n_folds = 10\n",
    "n_iters = 3\n",
    "validation_rate = 0.3\n",
    "rng = np.random.RandomState(42)\n",
    "\n",
    "print(n_instances)\n",
    "print(n_features)"
   ]
  },
  {
   "cell_type": "code",
   "execution_count": 151,
   "metadata": {
    "scrolled": true
   },
   "outputs": [
    {
     "name": "stdout",
     "output_type": "stream",
     "text": [
      "Classification accuracy of META-DES:  0.5419664268585132\n",
      "Classification accuracy of META-DES:  0.5287081339712919\n",
      "Classification accuracy of META-DES:  0.5406698564593302\n",
      "Classification accuracy of META-DES:  0.5430622009569378\n",
      "Classification accuracy of META-DES:  0.5167464114832536\n",
      "Classification accuracy of META-DES:  0.5635491606714629\n",
      "Classification accuracy of META-DES:  0.5179856115107914\n",
      "Classification accuracy of META-DES:  0.5371702637889688\n",
      "Classification accuracy of META-DES:  0.5371702637889688\n",
      "Classification accuracy of META-DES:  0.5587529976019184\n",
      "Classification accuracy of META-DES:  0.565947242206235\n",
      "Classification accuracy of META-DES:  0.5191387559808612\n",
      "Classification accuracy of META-DES:  0.507177033492823\n",
      "Classification accuracy of META-DES:  0.49521531100478466\n",
      "Classification accuracy of META-DES:  0.5334928229665071\n",
      "Classification accuracy of META-DES:  0.539568345323741\n",
      "Classification accuracy of META-DES:  0.5059952038369304\n",
      "Classification accuracy of META-DES:  0.5203836930455635\n",
      "Classification accuracy of META-DES:  0.5179856115107914\n",
      "Classification accuracy of META-DES:  0.5251798561151079\n",
      "Classification accuracy of META-DES:  0.5347721822541966\n",
      "Classification accuracy of META-DES:  0.507177033492823\n",
      "Classification accuracy of META-DES:  0.5119617224880383\n",
      "Classification accuracy of META-DES:  0.5358851674641149\n",
      "Classification accuracy of META-DES:  0.5\n",
      "Classification accuracy of META-DES:  0.5419664268585132\n",
      "Classification accuracy of META-DES:  0.5059952038369304\n",
      "Classification accuracy of META-DES:  0.5227817745803357\n",
      "Classification accuracy of META-DES:  0.5419664268585132\n",
      "Classification accuracy of META-DES:  0.5635491606714629\n",
      "[0.54196643 0.52870813 0.54066986 0.5430622  0.51674641 0.56354916\n",
      " 0.51798561 0.53717026 0.53717026 0.558753   0.56594724 0.51913876\n",
      " 0.50717703 0.49521531 0.53349282 0.53956835 0.5059952  0.52038369\n",
      " 0.51798561 0.52517986 0.53477218 0.50717703 0.51196172 0.53588517\n",
      " 0.5        0.54196643 0.5059952  0.52278177 0.54196643 0.56354916]\n",
      "[0.53372521 0.51841008 0.53106007 0.53194362 0.50676884 0.55912926\n",
      " 0.51364868 0.53351981 0.53132548 0.55503241 0.5536514  0.51600888\n",
      " 0.49387567 0.48975602 0.534898   0.54095238 0.49963155 0.51028523\n",
      " 0.51900031 0.52638154 0.52739115 0.50452364 0.50569056 0.52961476\n",
      " 0.49754213 0.53257427 0.49386089 0.5134036  0.54716969 0.5631465 ]\n",
      "[0.54196643 0.52870813 0.54066986 0.5430622  0.51674641 0.56354916\n",
      " 0.51798561 0.53717026 0.53717026 0.558753   0.56594724 0.51913876\n",
      " 0.50717703 0.49521531 0.53349282 0.53956835 0.5059952  0.52038369\n",
      " 0.51798561 0.52517986 0.53477218 0.50717703 0.51196172 0.53588517\n",
      " 0.5        0.54196643 0.5059952  0.52278177 0.54196643 0.56354916]\n"
     ]
    }
   ],
   "source": [
    "all_ids = np.array(range(D.shape[0]))\n",
    "\n",
    "accuracies = np.zeros(n_iters * n_folds,)\n",
    "precisions_macro = np.zeros(n_iters * n_folds,)\n",
    "recalls_macro = np.zeros(n_iters * n_folds,)\n",
    "f1s_macro = np.zeros(n_iters * n_folds,)\n",
    "\n",
    "precisions_micro = np.zeros(n_iters * n_folds,)\n",
    "recalls_micro = np.zeros(n_iters * n_folds,)\n",
    "f1s_micro = np.zeros(n_iters * n_folds,)\n",
    "\n",
    "for i_iter in range(n_iters):\n",
    "    base_loop = i_iter * n_folds;\n",
    "    for i_fold in range(n_folds):\n",
    "        current_loop = base_loop + i_fold\n",
    "        \n",
    "        # subtract one since index in python starts from 0 (matlab from 0)\n",
    "        test_ids = cv[0, current_loop][:, 0] - 1 \n",
    "        train_ids = np.setdiff1d(all_ids, test_ids)\n",
    "        \n",
    "        X_train = D[train_ids, :-1]\n",
    "        Y_train = D[train_ids, -1]\n",
    "        \n",
    "        X_test = D[test_ids, :-1]\n",
    "        Y_test = D[test_ids, -1]\n",
    "        \n",
    "        X_train, X_dev, Y_train, Y_dev = train_test_split(X_train, Y_train,\n",
    "                                                    test_size=0.3,\n",
    "                                                    random_state=rng)\n",
    "        \n",
    "        model_knn = KNeighborsClassifier(n_neighbors=5).fit(X_train, Y_train)\n",
    "        model_nb = GaussianNB().fit(X_train, Y_train)\n",
    "        model_lda = LinearDiscriminantAnalysis().fit(X_train, Y_train)\n",
    "        \n",
    "        pool_classifiers = [model_lda, model_nb, model_knn]\n",
    "        metades = METADES(pool_classifiers)\n",
    "        \n",
    "        metades.fit(X_dev, Y_dev)\n",
    "        \n",
    "        accuracy = metades.score(X_test, Y_test)\n",
    "        \n",
    "        print('Classification accuracy of META-DES: ', accuracy)\n",
    "        Y_pred = metades.predict(X_test)\n",
    "        support_macro = precision_recall_fscore_support(Y_test, Y_pred, average='macro')\n",
    "        support_micro = precision_recall_fscore_support(Y_test, Y_pred, average='micro')\n",
    "        \n",
    "        accuracies[current_loop] = accuracy\n",
    "        \n",
    "        precisions_macro[current_loop] = support_macro[0]\n",
    "        recalls_macro[current_loop] = support_macro[1]\n",
    "        f1s_macro[current_loop] = support_macro[2]\n",
    "        \n",
    "        precisions_micro[current_loop] = support_micro[0]\n",
    "        recalls_micro[current_loop] = support_micro[1]\n",
    "        f1s_micro[current_loop] = support_micro[2]\n",
    "\n",
    "print(accuracies)\n",
    "print(f1s_macro)\n",
    "print(f1s_micro)\n",
    "\n",
    "        "
   ]
  },
  {
   "cell_type": "code",
   "execution_count": 140,
   "metadata": {},
   "outputs": [
    {
     "name": "stdout",
     "output_type": "stream",
     "text": [
      "0.0005405719426893039\n",
      "0.0005405719426893039\n"
     ]
    }
   ],
   "source": [
    "accuracies_mean = np.mean(accuracies)\n",
    "accuracies_var = np.var(accuracies)\n",
    "\n",
    "# macro\n",
    "precisions_macro_mean = np.mean(precisions_macro)\n",
    "precisions_macro_var = np.var(precisions_macro)\n",
    "\n",
    "recalls_macro_mean = np.mean(recalls_macro)\n",
    "recalls_macro_var = np.var(recalls_macro)\n",
    "\n",
    "f1s_macro_mean = np.mean(f1s_macro)\n",
    "f1s_macro_var = np.var(f1s_macro)\n",
    "\n",
    "# micro\n",
    "precisions_micro_mean = np.mean(precisions_micro)\n",
    "precisions_micro_var = np.var(precisions_micro)\n",
    "\n",
    "recalls_micro_mean = np.mean(recalls_micro)\n",
    "recalls_micro_var = np.var(recalls_micro)\n",
    "\n",
    "f1s_micro_mean = np.mean(f1s_micro)\n",
    "f1s_micro_var = np.var(f1s_micro)\n",
    "\n",
    "\n",
    "np.savetxt('test.dat', accuracies, delimiter=',', fmt='%0.6e')\n",
    "\n",
    "f = open(\"test.dat\", \"a\")\n",
    "f.write(\"----------\\n\")\n",
    "f.write(\"Mean:\\n\")\n",
    "f.write(\"{0:6E}\\n\".format(np.mean(accuracies)))\n",
    "f.write(\"Variance:\\n\")\n",
    "f.write(\"{0:6E}\".format(accuracies_var))\n",
    "f.close()"
   ]
  },
  {
   "cell_type": "code",
   "execution_count": 150,
   "metadata": {},
   "outputs": [
    {
     "name": "stdout",
     "output_type": "stream",
     "text": [
      "(0.2222222222222222, 0.3333333333333333, 0.26666666666666666, None)\n"
     ]
    },
    {
     "data": {
      "text/plain": [
       "0.26666666666666666"
      ]
     },
     "execution_count": 150,
     "metadata": {},
     "output_type": "execute_result"
    }
   ],
   "source": [
    "# a = np.array([4.316547e-01,4.712919e-01,4.497608e-01,4.712919e-01,4.904306e-01,4.796163e-01,5.083933e-01,4.652278e-01,4.460432e-01,4.628297e-01,3.980815e-01,4.808612e-01,4.808612e-01,4.617225e-01,4.712919e-01,4.484412e-01,4.892086e-01,4.484412e-01,4.724221e-01,4.604317e-01,4.724221e-01,4.760766e-01,5.047847e-01,4.665072e-01,5.000000e-01,4.556355e-01,4.484412e-01,4.316547e-01,4.580336e-01,4.412470e-01])\n",
    "# print(a.shape)\n",
    "# a_mean = np.mean(a)\n",
    "# print(np.square(a - accuracies_mean))\n",
    "# a_var = np.sum(np.square(a - a_mean))/30\n",
    "# print(a_mean)\n",
    "# print(a_var)\n",
    "# print(np.var(a))\n",
    "\n",
    "y_true = np.array(['cat', 'dog', 'pig', 'cat', 'dog', 'pig'])\n",
    "y_pred = np.array(['cat', 'pig', 'dog', 'cat', 'cat', 'dog'])\n",
    "a = precision_recall_fscore_support(y_true, y_pred, average='macro')\n",
    "print(a)\n",
    "2*a[0]*a[1]/(a[0] + a[1])\n"
   ]
  },
  {
   "cell_type": "markdown",
   "metadata": {},
   "source": []
  }
 ],
 "metadata": {
  "kernelspec": {
   "display_name": "Python 3",
   "language": "python",
   "name": "python3"
  },
  "language_info": {
   "codemirror_mode": {
    "name": "ipython",
    "version": 3
   },
   "file_extension": ".py",
   "mimetype": "text/x-python",
   "name": "python",
   "nbconvert_exporter": "python",
   "pygments_lexer": "ipython3",
   "version": "3.6.7"
  }
 },
 "nbformat": 4,
 "nbformat_minor": 2
}
