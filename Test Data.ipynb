{
 "cells": [
  {
   "cell_type": "code",
   "execution_count": 14,
   "metadata": {},
   "outputs": [
    {
     "name": "stdout",
     "output_type": "stream",
     "text": [
      "RBF\n",
      "(1000000, 51)\n",
      "(1, 300)\n"
     ]
    }
   ],
   "source": [
    "import numpy as np\n",
    "import scipy.io as sio\n",
    "\n",
    "file_list = [\"zoo\", \"RBF\", \"Agrawal\", \"aloi_scale_as_uci\", \"Amazon\", \"AssetNegotiation-F2\",\n",
    "\"AssetNegotiation-F3\", \"AssetNegotiation-F4\", \"BayesianNetworkGenerator_bridges_version1\", \"BNG_zoo\",\n",
    "\"connect_4_as_uci\", \"covtype_libsvm_binary_scale_as_uci\", \"covtype\", \"Hyperplane\",\n",
    "\"poker\", \"RandomTree\", \"Colon\", \"DowJones_dj30-1985-2003\", \"duke_as_uci\",\n",
    "\"ECML\", \"electricity-normalized\", \"Embryonal\", \"Leukemia\", \"mushrooms_as_uci\",\n",
    "\"STAGGER\", \"nursery\", \"optical\", \"bands\", \"soybean-large\",\n",
    "\"svmguide2_as_uci\"]\n",
    "\n",
    "file_list = [\"RBF\"]\n",
    "\n",
    "for file_name in file_list:\n",
    "    print(file_name)\n",
    "    D = np.loadtxt('/Volumes/VUBINH/Machine Learning/csv_data/Data_bosung/{}.csv'.format(file_name), delimiter=',')\n",
    "    try:\n",
    "        cv = sio.loadmat('/Volumes/VUBINH/Machine Learning/csv_data/CV_bosung/cv_{}.mat'.format(file_name))\n",
    "        print(D.shape)\n",
    "        print(cv['cv'].shape)\n",
    "    except:\n",
    "        print(\"Need cv:\\n{}\".format(file_name))\n",
    "    \n"
   ]
  },
  {
   "cell_type": "code",
   "execution_count": 15,
   "metadata": {},
   "outputs": [
    {
     "data": {
      "text/plain": [
       "(1, 300)"
      ]
     },
     "execution_count": 15,
     "metadata": {},
     "output_type": "execute_result"
    }
   ],
   "source": [
    "cv['cv'].shape"
   ]
  },
  {
   "cell_type": "markdown",
   "metadata": {},
   "source": []
  }
 ],
 "metadata": {
  "kernelspec": {
   "display_name": "Python 3",
   "language": "python",
   "name": "python3"
  },
  "language_info": {
   "codemirror_mode": {
    "name": "ipython",
    "version": 3
   },
   "file_extension": ".py",
   "mimetype": "text/x-python",
   "name": "python",
   "nbconvert_exporter": "python",
   "pygments_lexer": "ipython3",
   "version": "3.6.7"
  }
 },
 "nbformat": 4,
 "nbformat_minor": 2
}
